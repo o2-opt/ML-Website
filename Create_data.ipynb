{
 "cells": [
  {
   "cell_type": "code",
   "execution_count": 1,
   "id": "6d61e310",
   "metadata": {},
   "outputs": [],
   "source": [
    "import pandas as pd"
   ]
  },
  {
   "cell_type": "code",
   "execution_count": 2,
   "id": "40ec0311",
   "metadata": {},
   "outputs": [],
   "source": [
    "weather= pd.read_excel('Data/DC_weather.xlsx')\n",
    "bikeQ1 = pd.read_csv('Data/2016Q1-capitalbikeshare-tripdata.csv')\n",
    "bikeQ2 = pd.read_csv('Data/2016Q2-capitalbikeshare-tripdata.csv')\n",
    "bikeQ3 = pd.read_csv('Data/2016Q3-capitalbikeshare-tripdata.csv')\n",
    "bikeQ4 = pd.read_csv('Data/2016Q4-capitalbikeshare-tripdata.csv')\n"
   ]
  },
  {
   "cell_type": "code",
   "execution_count": 3,
   "id": "bb2a4ea5",
   "metadata": {},
   "outputs": [],
   "source": [
    "# weather data\n",
    "weather = weather[weather['Date'] > pd.to_datetime('2016-01-01')]\n",
    "weather = weather[weather['Date'] < pd.to_datetime('2017-01-01')]\n"
   ]
  },
  {
   "cell_type": "code",
   "execution_count": 4,
   "id": "5e878d9e",
   "metadata": {},
   "outputs": [],
   "source": [
    "# bike data\n",
    "df1 = pd.DataFrame(pd.to_datetime(bikeQ1['Start date']).dt.date)\n",
    "df2 = pd.DataFrame(pd.to_datetime(bikeQ2['Start date']).dt.date)\n",
    "df3 = pd.DataFrame(pd.to_datetime(bikeQ3['Start date']).dt.date)\n",
    "df4 = pd.DataFrame(pd.to_datetime(bikeQ4['Start date']).dt.date)\n",
    "\n",
    "df = pd.concat([df1,df2,df3,df4])\n",
    "\n",
    "df['num_rides'] = 1\n",
    "df = df.groupby('Start date',as_index=False).sum()\n",
    "df = df.rename(columns={'Start date':'Date'})\n",
    "\n",
    "df['Date'] = pd.to_datetime(df['Date'])"
   ]
  },
  {
   "cell_type": "code",
   "execution_count": 5,
   "id": "3c994e75",
   "metadata": {},
   "outputs": [],
   "source": [
    "# holidays\n",
    "from pandas.tseries.holiday import USFederalHolidayCalendar as calendar\n",
    "\n",
    "cal = calendar()\n",
    "holidays = cal.holidays(start=df['Date'].min(), end=df['Date'].max())\n",
    "\n",
    "df['Holiday'] = df['Date'].isin(holidays)"
   ]
  },
  {
   "cell_type": "code",
   "execution_count": 6,
   "id": "8404620e",
   "metadata": {},
   "outputs": [],
   "source": [
    "# weekend days\n",
    "df['weekend'] = df['Date'].dt.weekday > 5"
   ]
  },
  {
   "cell_type": "code",
   "execution_count": 7,
   "id": "6486a5c7",
   "metadata": {},
   "outputs": [],
   "source": [
    "# merge final data set\n",
    "df = pd.merge(weather,df)"
   ]
  },
  {
   "cell_type": "code",
   "execution_count": 15,
   "id": "f6bc2e99",
   "metadata": {},
   "outputs": [],
   "source": [
    "# rename columns names\n",
    "df = df.rename(columns={'TAVG (Degrees Fahrenheit)':'TAVG',\n",
    "                   'TMAX (Degrees Fahrenheit)':'TMAX',\n",
    "                   'TMIN (Degrees Fahrenheit)':'TMIN',\n",
    "                   'PRCP (Inches)':'PRCP',\n",
    "                   'SNOW (Inches)':'SNOW',\n",
    "                   'SNWD (Inches)':'SNWD'\n",
    "                   })"
   ]
  },
  {
   "cell_type": "code",
   "execution_count": 17,
   "id": "a5301546",
   "metadata": {},
   "outputs": [],
   "source": [
    "df.to_csv('Data/data.csv', index = False)"
   ]
  },
  {
   "cell_type": "code",
   "execution_count": null,
   "id": "cc95b0c2",
   "metadata": {},
   "outputs": [],
   "source": []
  }
 ],
 "metadata": {
  "kernelspec": {
   "display_name": "Python 3 (ipykernel)",
   "language": "python",
   "name": "python3"
  },
  "language_info": {
   "codemirror_mode": {
    "name": "ipython",
    "version": 3
   },
   "file_extension": ".py",
   "mimetype": "text/x-python",
   "name": "python",
   "nbconvert_exporter": "python",
   "pygments_lexer": "ipython3",
   "version": "3.9.13"
  }
 },
 "nbformat": 4,
 "nbformat_minor": 5
}
